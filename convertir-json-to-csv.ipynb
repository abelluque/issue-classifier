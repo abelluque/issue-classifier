{
 "cells": [
  {
   "cell_type": "code",
   "execution_count": 2,
   "id": "5cdbc684-1621-4b0b-99a9-be5b9afb7034",
   "metadata": {},
   "outputs": [
    {
     "name": "stdout",
     "output_type": "stream",
     "text": [
      "Archivo JSON 'data.json' cargado exitosamente.\n",
      "El archivo CSV 'trainning_data.csv' ha sido creado exitosamente en el mismo directorio.\n"
     ]
    }
   ],
   "source": [
    "import json\n",
    "import csv\n",
    "import os\n",
    "\n",
    "# Define el nombre del archivo JSON de entrada\n",
    "json_input_file = 'data.json'\n",
    "# Define el nombre del archivo CSV de salida\n",
    "csv_output_file = 'trainning_data.csv'\n",
    "\n",
    "# Cargar el JSON desde el archivo\n",
    "try:\n",
    "    with open(json_input_file, 'r', encoding='utf-8') as f:\n",
    "        # Cargar el contenido completo del JSON\n",
    "        data = json.load(f)\n",
    "    print(f\"Archivo JSON '{json_input_file}' cargado exitosamente.\")\n",
    "\n",
    "except FileNotFoundError:\n",
    "    print(f\"Error: El archivo '{json_input_file}' no fue encontrado en el directorio actual.\")\n",
    "    exit() # Salir si el archivo no existe\n",
    "except json.JSONDecodeError:\n",
    "    print(f\"Error: El archivo '{json_input_file}' no es un JSON válido o está corrupto.\")\n",
    "    exit() # Salir si el JSON no es válido\n",
    "except Exception as e:\n",
    "    print(f\"Ocurrió un error inesperado al cargar el JSON: {e}\")\n",
    "    exit() # Salir por cualquier otro error\n",
    "\n",
    "# Verificar si el JSON cargado es un diccionario y contiene la clave 'siniestros'\n",
    "if not isinstance(data, dict) or 'siniestros' not in data:\n",
    "    print(\"Error: El archivo JSON debe contener un objeto raíz con la clave 'siniestros'.\")\n",
    "    exit()\n",
    "\n",
    "# Extraer la lista de siniestros de la clave 'siniestros'\n",
    "data_list = data.get('siniestros', [])\n",
    "\n",
    "# Verificar si la lista de datos no está vacía y es una lista de diccionarios\n",
    "if not isinstance(data_list, list) or not all(isinstance(item, dict) for item in data_list):\n",
    "    print(\"Error: El valor de 'siniestros' debe ser una lista de objetos (diccionarios).\")\n",
    "    exit()\n",
    "\n",
    "if data_list:\n",
    "    # Obtener los nombres de las columnas (claves del primer diccionario en la lista)\n",
    "    columnas = data_list[0].keys()\n",
    "\n",
    "    try:\n",
    "        # Escribir los datos en el archivo CSV\n",
    "        # 'newline=''' es importante para evitar filas en blanco adicionales en el CSV\n",
    "        # 'encoding='utf-8'' para manejar caracteres especiales\n",
    "        with open(csv_output_file, 'w', newline='', encoding='utf-8') as archivo_csv:\n",
    "            # Crea un objeto DictWriter que mapea diccionarios a filas CSV\n",
    "            writer = csv.DictWriter(archivo_csv, fieldnames=columnas)\n",
    "\n",
    "            # Escribir la fila de encabezado\n",
    "            writer.writeheader()\n",
    "\n",
    "            # Escribir cada diccionario de la lista como una fila en el CSV\n",
    "            for item in data_list:\n",
    "                writer.writerow(item)\n",
    "\n",
    "        print(f\"El archivo CSV '{csv_output_file}' ha sido creado exitosamente en el mismo directorio.\")\n",
    "\n",
    "    except IOError as e:\n",
    "        print(f\"Error de E/S al escribir el archivo CSV: {e}\")\n",
    "    except Exception as e:\n",
    "        print(f\"Ocurrió un error inesperado al escribir el CSV: {e}\")\n",
    "else:\n",
    "    print(\"La lista de siniestros en el archivo JSON está vacía, no se generará ningún archivo CSV.\")"
   ]
  },
  {
   "cell_type": "code",
   "execution_count": null,
   "id": "f220d63b-f549-425c-9f64-3893fde470ab",
   "metadata": {},
   "outputs": [],
   "source": []
  },
  {
   "cell_type": "code",
   "execution_count": null,
   "id": "0a0dd3e3-fb32-4c4e-9f73-b28fb1307bac",
   "metadata": {},
   "outputs": [],
   "source": []
  }
 ],
 "metadata": {
  "kernelspec": {
   "display_name": "Python 3.11",
   "language": "python",
   "name": "python3"
  },
  "language_info": {
   "codemirror_mode": {
    "name": "ipython",
    "version": 3
   },
   "file_extension": ".py",
   "mimetype": "text/x-python",
   "name": "python",
   "nbconvert_exporter": "python",
   "pygments_lexer": "ipython3",
   "version": "3.11.9"
  }
 },
 "nbformat": 4,
 "nbformat_minor": 5
}
